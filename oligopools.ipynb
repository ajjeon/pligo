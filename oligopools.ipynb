{
 "cells": [
  {
   "cell_type": "code",
   "execution_count": 1,
   "metadata": {},
   "outputs": [
    {
     "data": {
      "text/plain": [
       "['oligopools.ini']"
      ]
     },
     "execution_count": 1,
     "metadata": {},
     "output_type": "execute_result"
    }
   ],
   "source": [
    "from pybedtools import BedTool\n",
    "import pandas as pd\n",
    "import matplotlib.pyplot as plt\n",
    "from os import sys\n",
    "import re, sys\n",
    "import plotly\n",
    "plotly.tools.set_credentials_file(username='hsjeon1998', api_key='nHOcq7avEY6zhdIwmxPm')\n",
    "import plotly.plotly as py\n",
    "import plotly.graph_objs as go\n",
    "import configparser\n",
    "config = configparser.ConfigParser()\n",
    "config.read('oligopools.ini')"
   ]
  },
  {
   "cell_type": "code",
   "execution_count": 2,
   "metadata": {},
   "outputs": [
    {
     "data": {
      "text/plain": [
       "'/Users/hsjeon/python/DMSO_H3K4me3_peaks.bed'"
      ]
     },
     "execution_count": 2,
     "metadata": {},
     "output_type": "execute_result"
    }
   ],
   "source": [
    "config['peak_bed']['h3k4']"
   ]
  },
  {
   "cell_type": "code",
<<<<<<< HEAD
   "execution_count": 3,
=======
   "execution_count": 5,
>>>>>>> c4d432671f2448ef5a5fabca52b63996e85cba32
   "metadata": {},
   "outputs": [],
   "source": [
    "def fileopen(gene):\n",
    "    #gene = input(\"Enter gene: \")\n",
<<<<<<< HEAD
    "    file = open(config['hg38']['GFF'], \"r\")\n",
=======
    "    file = open(\"Hg38.bed\", \"r\")\n",
>>>>>>> c4d432671f2448ef5a5fabca52b63996e85cba32
    "    a = BedTool(\"\", from_string=True)\n",
    "    tick = 0\n",
    "    line = file.readline()\n",
    "    while line:\n",
    "        a1,b1,c1,geneSymbol,e1,refseq = line.split(\"\\t\") ; refseq1 = refseq.rstrip()\n",
    "        if gene == geneSymbol:\n",
    "            if refseq1:\n",
    "                a2 = BedTool(line, from_string=True)\n",
    "                a = a.cat(a2, postmerge=False)\n",
    "                tick = tick+1\n",
    "        line = file.readline()\n",
    "    if tick == 0:          # if no gene is found, return false\n",
    "        return False\n",
    "    else:\n",
<<<<<<< HEAD
=======
    "        #print(a)  #delete this line later, prints only lines with refseq, no merge, only merge after the +- is done\n",
>>>>>>> c4d432671f2448ef5a5fabca52b63996e85cba32
    "        return [a,tick]"
   ]
  },
  {
   "cell_type": "code",
<<<<<<< HEAD
   "execution_count": 4,
=======
   "execution_count": 363,
>>>>>>> c4d432671f2448ef5a5fabca52b63996e85cba32
   "metadata": {},
   "outputs": [],
   "source": [
    "def get_my_symbol(symbol):\n",
    "    \"\"\"This is a function that takes a symbol and gets a subset of a\n",
    "    bed file matching the symbol\"\"\"\n",
    "    results = BedTool('Hg38.bed')\\\n",
    "        .filter(lambda feature: feature.name == symbol and feature[5])\n",
    "    return results"
   ]
  },
  {
   "cell_type": "code",
<<<<<<< HEAD
   "execution_count": 5,
=======
   "execution_count": 364,
>>>>>>> c4d432671f2448ef5a5fabca52b63996e85cba32
   "metadata": {},
   "outputs": [
    {
     "name": "stdout",
     "output_type": "stream",
     "text": [
      "chr14\t104769370\t104793700\tAKT1\t-\tNM_005163\n",
      "chr14\t104769348\t104795679\tAKT1\t-\tNM_001014431\n",
      "chr14\t104769348\t104795751\tAKT1\t-\tNM_001014432\n",
      "\n"
     ]
    }
   ],
   "source": [
    "print(get_my_symbol('AKT1'))"
   ]
  },
  {
   "cell_type": "code",
<<<<<<< HEAD
   "execution_count": 6,
=======
   "execution_count": 362,
   "metadata": {},
   "outputs": [],
   "source": [
    "def make_TSS(feature):\n",
    "    \"\"\"Take a feature as input, and return a single base TSS; this can be used on features in a BedTool\"\"\"\n"
   ]
  },
  {
   "cell_type": "code",
   "execution_count": 228,
>>>>>>> c4d432671f2448ef5a5fabca52b63996e85cba32
   "metadata": {},
   "outputs": [],
   "source": [
    "def findregion(x):\n",
    "    region = [int(x)-2000, int(x)+2000]\n",
    "    return region\n",
    "\n",
    "\n",
    "def makebed(x):\n",
<<<<<<< HEAD
    "    bedfile = x[0] #bedfile here is bed with just the lines containing refseq and the gene desired\n",
=======
    "    bedfile = x[0]\n",
>>>>>>> c4d432671f2448ef5a5fabca52b63996e85cba32
    "    b = BedTool(\"\", from_string=True)\n",
    "    t = 0\n",
    "    while t < x[1]: # if tick(t) is lesser than the number of lines in bed file\n",
    "        if bedfile[t][4] == \"-\":\n",
    "            region = findregion(bedfile[t][2])\n",
    "        else:\n",
    "            region = findregion(bedfile[t][1])\n",
    "        line = \"\\t\".join([bedfile[t][0],str(region[0]),str(region[1]),bedfile[t][3],bedfile[t][4]])\n",
    "        b = makebed2(b,line)\n",
    "        t = t+1\n",
    "    chrom = str(bedfile[0][0])\n",
<<<<<<< HEAD
=======
    "    #print(\"b\")\n",
    "    #print(b)\n",
>>>>>>> c4d432671f2448ef5a5fabca52b63996e85cba32
    "    return [b,chrom]"
   ]
  },
  {
   "cell_type": "code",
   "execution_count": 7,
   "metadata": {},
   "outputs": [],
   "source": [
    "def makebed2(a,b):\n",
    "    d = BedTool(b, from_string=True)\n",
    "    c = a.cat(d) #postmerge = True by default\n",
    "    return c"
   ]
  },
  {
   "cell_type": "code",
   "execution_count": 8,
   "metadata": {},
   "outputs": [],
   "source": [
<<<<<<< HEAD
    "def bedintersect(x,y,z):\n",
    "    name = x[1]\n",
    "    olmname = \"hg38_\" + name + y\n",
    "    kingbed = x[0] \n",
    "    queenbed = BedTool(z+olmname)\n",
    "    singlebed = queenbed.intersect(kingbed)\n",
    "    return [singlebed,x[0]]"
=======
    "def bedintersect(x):\n",
    "    name = x[1]\n",
    "    olmname = \"hg38_\" + name + \"b_u.bed\" \n",
    "    kingbed = x[0] \n",
    "    queenbed = BedTool(\"/Users/hsjeon/python/hg38b_u/hg38b_u/\"+olmname)\n",
    "    singlebed = queenbed.intersect(kingbed)\n",
    "    return singlebed"
>>>>>>> c4d432671f2448ef5a5fabca52b63996e85cba32
   ]
  },
  {
   "cell_type": "code",
   "execution_count": 9,
   "metadata": {},
   "outputs": [],
   "source": [
    "def showprobe(x):\n",
    "    for i in x:\n",
    "        print(i[3])"
   ]
  },
  {
   "cell_type": "code",
   "execution_count": 10,
   "metadata": {},
   "outputs": [],
   "source": [
<<<<<<< HEAD
    "def drawgraph2(x,listme,setting,chrom):\n",
    "    singlebed = x[0] ; originalbed = x[1]\n",
    "    \n",
    "    length = len(singlebed) - 1\n",
    "    height = 0\n",
    "    height2 = 0\n",
    "    xc = []\n",
    "    yc = []\n",
    "    textlist = []\n",
    "    probeheight = 5\n",
    "    #for probes\n",
    "    while height <= length:\n",
    "        xappend1 = int(singlebed[height][1]) ; xappend2 = int(singlebed[height][2])\n",
    "        xc.append(xappend1); xc.append(xappend2); xc.append(\"None\")\n",
    "        yc.append(probeheight); yc.append(probeheight); yc.append(\"None\")\n",
    "        textlist.append(singlebed[height][3]) ; textlist.append(singlebed[height][3]) ; textlist.append(\"None\")\n",
    "        height = height+1\n",
    "        if probeheight < 5.1:\n",
    "            probeheight = probeheight + 0.1\n",
    "        else:\n",
    "            probeheight = 5\n",
    "\n",
    "    #for tss \n",
    "    listme2 = []\n",
    "    for i in listme:\n",
    "        listme2.append(2)\n",
    "        listme2.append(\"None\")\n",
    "    \n",
    "    #for gene\n",
    "    listme3x = [] ; listme3y = []\n",
    "    length_original = len(originalbed)\n",
    "    for i in originalbed:\n",
    "        listme3x.append(i[1]) ; listme3x.append(i[2]) ; listme3x.append(\"None\")\n",
    "        listme3y.append(2); listme3y.append(2) ; listme3y.append(\"None\")\n",
    "    \n",
    "    #for peak region\n",
    "    listme4x = [] ; listme4y = []\n",
    "    regin1 = int(originalbed[0][1]) ; regin2 = int(originalbed[len(originalbed)-1][2])\n",
    "    region1 = (regin1+regin2)//2 - 10000 ; region2 = (regin1+regin2)//2 + 10000\n",
    "    s = \"\\t\".join([chrom, str(region1), str(region2)])\n",
    "    queenbed = BedTool(s, from_string = True)\n",
    "    if setting == 1:\n",
    "        bedname = config['peak_bed']['H3K4']\n",
    "                                   \n",
    "    elif setting == 2:\n",
    "        bedname = config['peak_bed']['H3K27']\n",
    "    kingbed = BedTool(bedname)\n",
    "    intersection = queenbed.intersect(kingbed,wb = True)\n",
    "    \n",
    "    for i in intersection:\n",
    "        listme4x.append(i[1]) ; listme4x.append(i[2]) ; listme4x.append(\"None\")\n",
    "        listme4y.append(4) ; listme4y.append(4) ; listme4y.append(\"None\")\n",
    "    \n",
    "    layout = go.Layout(title = 'Graph')\n",
    "    \n",
    "    trace1 = go.Scatter(\n",
    "        x = xc,\n",
    "        y = yc,\n",
    "        name = 'test',\n",
    "        text = textlist,\n",
    "        connectgaps = False\n",
    "    )\n",
    "    trace2 = go.Scatter(\n",
    "        x = listme,\n",
    "        y = listme2,\n",
    "        name = 'TSS',\n",
    "        mode = 'markers',\n",
    "        connectgaps = False\n",
    "    )\n",
    "    trace3 = go.Scatter(x = listme3x, y = listme3y, name = 'gene', connectgaps = False)\n",
    "    trace4 = go.Scatter(x = listme4x, y = listme4y, name = 'peakbed', connectgaps = False)\n",
    "    dataa = [trace1,trace2,trace3,trace4]\n",
    "    \n",
    "    fig = dict(data = dataa, layout = layout)\n",
    "    py.plot(fig, filename = 'graphed')\n",
    "    \n",
    "\n",
    "    "
=======
    "def drawgraph(x):\n",
    "    #print(x)\n",
    "    length = len(x) - 1\n",
    "    height = 0\n",
    "    height2 = 0\n",
    "    #plt.figure(height2)\n",
    "    xc = []\n",
    "    yc = []\n",
    "    while height <= length:\n",
    "        xappend1 = int(x[height][1]) ; xappend2 = int(x[height][2])\n",
    "        xc.append(xappend1)\n",
    "        xc.append(xappend2)\n",
    "        yc.append(height+1)\n",
    "        yc.append(height+1)\n",
    "        height = height+1\n",
    "    while height2 <= length:\n",
    "        plt.plot([xc[2*height2],xc[2*height2+1]],[yc[2*height2],yc[2*height2+1]])\n",
    "        height2 = height2+1"
>>>>>>> c4d432671f2448ef5a5fabca52b63996e85cba32
   ]
  },
  {
   "cell_type": "code",
<<<<<<< HEAD
   "execution_count": 11,
   "metadata": {},
   "outputs": [],
   "source": [
    "#homebed is the original region before intersection\n",
    "#housebed is the intersected region\n",
    "#memoryfoam is the region in the peaks file before intersection\n",
=======
   "execution_count": 337,
   "metadata": {},
   "outputs": [],
   "source": [
>>>>>>> c4d432671f2448ef5a5fabca52b63996e85cba32
    "def selectpeakregion(x,y):\n",
    "    bed = x\n",
    "    length = len(bed)-1\n",
    "    row = 0\n",
    "    if y == 1:\n",
<<<<<<< HEAD
    "        bedname = config['peak_bed']['H3K4']\n",
    "    else:\n",
    "        bedname = config['peak_bed']['H3K27']\n",
    "    kingbed = BedTool(bedname)\n",
=======
    "        bedname = \"DMSO_H3K4me3_peaks.bed\"\n",
    "    else:\n",
    "        bedname = \"test.bed\"\n",
    "    kingbed = BedTool(\"/Users/hsjeon/python/\" + bedname)\n",
>>>>>>> c4d432671f2448ef5a5fabca52b63996e85cba32
    "    homebed = BedTool(\"\", from_string=True)\n",
    "    housebed = BedTool(\"\", from_string=True)\n",
    "    while row <= length:\n",
    "        queenbed = BedTool(str(bed[row]), from_string=True)\n",
    "        singlebed = queenbed.intersect(kingbed) \n",
    "        if singlebed:\n",
    "            homebed = homebed.cat(queenbed)\n",
    "            housebed = housebed.cat(singlebed)\n",
    "        row = row+1\n",
<<<<<<< HEAD
    "        \n",
    "    memoryfoam = bed.intersect(kingbed,wa = True)\n",
    "    \n",
    "    #this intersects the regions with the peaks bed file. \n",
    "    #homebed is the original region before intersection\n",
    "    #housebed is the intersected region\n",
    "    #memoryfoam is the region in the peaks file before intersection\n",
=======
    "        #BedTool.intersect\n",
    "    memoryfoam = bed.intersect(kingbed,wb = True)\n",
    "    print(\"memoryfoam\")\n",
    "    print(memoryfoam)\n",
    "    \n",
>>>>>>> c4d432671f2448ef5a5fabca52b63996e85cba32
    "    return [homebed,housebed,memoryfoam]\n",
    "\n",
    "\n",
    "\n",
<<<<<<< HEAD
    "def changebedregion(x,y,z,TSS):\n",
=======
    "def changebedregion(x,y,z):\n",
>>>>>>> c4d432671f2448ef5a5fabca52b63996e85cba32
    "    homebed,housebed,memoryfoam = x\n",
    "    difference = int(housebed[z][2])-int(housebed[z][1])\n",
    "    difference2 = 3000 - difference\n",
    "    condition = int(housebed[z][2]) + difference2 \n",
    "    condition2 = int(housebed[z][1]) - difference2\n",
    "    length = len(memoryfoam) - 1 ; row = 0\n",
    "    chrom = housebed[0][0]\n",
    "    if difference < 3000:\n",
    "        while row <= length:\n",
    "            if y == 1:\n",
    "                if housebed[z][1] == memoryfoam[row][4]:     \n",
<<<<<<< HEAD
    "#this line above looks for the intersected region in memoryfoam, since a single memoryfoam can be intersected multiple times\n",
=======
    "#this looks for the intersected region in memoryfoam, since a single memoryfoam can be intersected multiple times\n",
>>>>>>> c4d432671f2448ef5a5fabca52b63996e85cba32
    "                    if condition <= int(memoryfoam[row][5]):\n",
    "                        region1 = int(homebed[z][1]) + difference2 \n",
    "                        region2 = int(homebed[z][2]) + difference2 #this line should be == condition\n",
    "                    else:\n",
    "                    #elif condition > int(memoryfoam[row][5]):\n",
    "                        tomove = int(memoryfoam[row][5]) - int(housebed[z][2])\n",
    "                        region1 = int(homebed[z][1]) + tomove\n",
    "                        region2 = memoryfoam[row][5]\n",
    "                \n",
    "            \n",
    "            elif y == 2:\n",
    "                if housebed[z][2] == memoryfoam[row][5]:\n",
    "                    if condition2 >= int(memoryfoam[row][5]):\n",
    "                        region1 = int(homebed[z][1]) - difference2 #this line should be == condition2\n",
    "                        region2 = int(homebed[z][2]) - difference2\n",
    "                    else:\n",
    "                    #elif condition2 < int(memoryfoam[row][2]):\n",
    "                        tomove = int(housebed[z][1]) - int(memoryfoam[row][4])\n",
    "                        region1 = memoryfoam[row][4]\n",
    "                        region2 = int(homebed[z][2]) - tomove\n",
    "            row = row + 1\n",
    "        \n",
    "        return \"\\t\".join([chrom,str(region1),str(region2)])\n",
    "    \n",
    "\n",
    "        \n",
    "\n",
    "\n",
<<<<<<< HEAD
    "def adjustpeak(x,y):\n",
=======
    "def adjusth3k4me3peak(x,y):\n",
>>>>>>> c4d432671f2448ef5a5fabca52b63996e85cba32
    "    hotelbed = x[0] \n",
    "    motelbed = selectpeakregion(hotelbed,y) \n",
    "    waterbed = BedTool(\"\", from_string=True)\n",
    "    homebed,housebed,memoryfoam = motelbed\n",
    "    chrom = hotelbed[0][0]\n",
<<<<<<< HEAD
    "\n",
    "    \n",
    "    \n",
    "    if housebed:\n",
    "        #print(\"original region that was intersected:\\n\"+str(homebed))\n",
    "        #print(\"intersected region values:\\n\"+str(housebed))\n",
    "        #above are helpful for debugging\n",
    "        anotherone = len(housebed) - 1\n",
    "        andanotherone = 0\n",
    "        row1 = 0\n",
    "        #print(\"testing1\")\n",
    "        #print(homebed)\n",
    "        #print(housebed)\n",
    "        #print(housebed[andanotherone][1] , homebed[row1][1] , housebed[andanotherone][2] , homebed[row1][2])\n",
    "        #print(\"testing over\")\n",
    "        while andanotherone < anotherone:  \n",
    "        #might have to use <=, but doing that shows error for TP73. seems fine for now\n",
    "            TSS = (int(homebed[row1][2]) + int(homebed[row1][1]))//2\n",
    "            if housebed[andanotherone][1] == homebed[row1][1] and housebed[andanotherone + 1][2] == homebed[row1][2]:\n",
    "                diff = int(housebed[andanotherone][2]) - int(housebed[andanotherone][1])\n",
    "                diff2 = int(housebed[andanotherone + 1][2]) - int(housebed[andanotherone + 1][1])\n",
    "                \n",
=======
    "#kingbed = BedTool(\"/Users/hsjeon/python/DMSO_H3K4me3_peaks.bed\")\n",
    "#motelbed = [original bed with only the regions that were intersected (NOT THE INTERSECTED VALUE), bed with intersected value]\n",
    "#housebed[0][1] marinabed[0][1] housebed[0][2] marinabed[0][2]\n",
    "    \n",
    "    \n",
    "    if housebed:\n",
    "        print(\"original region that was intersected:\\n\"+str(homebed))\n",
    "        print(\"intersected region values:\\n\"+str(housebed))\n",
    "        anotherone = len(housebed) - 1\n",
    "        andanotherone = 0\n",
    "        row1 = 0\n",
    "        print(\"testing1\")\n",
    "        print(homebed)\n",
    "        print(housebed)\n",
    "        print(housebed[andanotherone][1] , homebed[row1][1] , housebed[andanotherone][2] , homebed[row1][2])\n",
    "        print(\"testing over\")\n",
    "        while andanotherone < anotherone:  #might have to use <=, but shows error for TP73. seems fine for now\n",
    "            if housebed[andanotherone][1] == homebed[row1][1] and housebed[andanotherone + 1][2] == homebed[row1][2]:\n",
    "                diff = int(housebed[andanotherone][2]) - int(housebed[andanotherone][1])\n",
    "                diff2 = int(housebed[andanotherone + 1][2]) - int(housebed[andanotherone + 1][1])\n",
    "                print(diff,diff2)\n",
>>>>>>> c4d432671f2448ef5a5fabca52b63996e85cba32
    "                ave = (diff+diff2)//2 ; diff3 = abs(diff - ave)\n",
    "                if diff > diff2:\n",
    "                #move to the right\n",
    "                    reg1 = int(homebed[row1][1]) + diff3 ; reg2 = int(homebed[row1][2]) + diff3\n",
    "                \n",
    "                else:\n",
    "                #move left\n",
    "                    reg1 = int(homebed[row1][1]) - diff3 ; reg2 = int(homebed[row1][2]) - diff2\n",
    "                \n",
    "                line = \"\\t\".join([chrom, str(reg1), str(reg2)])\n",
    "                waterbed = makebed2(waterbed,line)\n",
    "                \n",
    "                andanotherone = andanotherone + 2\n",
    "        \n",
    "            elif housebed[andanotherone][1] > homebed[row1][1] and housebed[andanotherone][2] == homebed[row1][2]:\n",
    "                print(\"case 1\")\n",
    "                case = 1\n",
    "                print(int(housebed[andanotherone][2])-int(housebed[andanotherone][1]))\n",
<<<<<<< HEAD
    "                line = changebedregion(motelbed,case,andanotherone,TSS)\n",
    "                waterbed = makebed2(waterbed,line)\n",
    "                andanotherone = andanotherone + 1\n",
    "                #case 1: move to the right\n",
=======
    "                line = changebedregion(motelbed,case,andanotherone)\n",
    "                #print(\"line\")\n",
    "                #print(line)\n",
    "                waterbed = makebed2(waterbed,line)\n",
    "                andanotherone = andanotherone + 1\n",
    "                #case 1은 그냥 오른쪽으로 이동\n",
>>>>>>> c4d432671f2448ef5a5fabca52b63996e85cba32
    "                \n",
    "            elif housebed[andanotherone][1] == homebed[row1][1] and housebed[andanotherone][2] < homebed[row1][2]:\n",
    "                print(\"case 2\")\n",
    "                case = 2\n",
    "                print(int(housebed[andanotherone][2])-int(housebed[andanotherone][1]))\n",
<<<<<<< HEAD
    "                line = changebedregion(motelbed,case,andanotherone,TSS)\n",
=======
    "                line = changebedregion(motelbed,case,andanotherone)\n",
>>>>>>> c4d432671f2448ef5a5fabca52b63996e85cba32
    "                print(\"line2\")\n",
    "                print(line)\n",
    "                waterbed = makebed2(waterbed,line)\n",
    "                andanotherone = andanotherone + 1\n",
<<<<<<< HEAD
    "                #case 2: move to the left\n",
=======
    "                #case 2는 그냥 왼쪽으로 이동!\n",
>>>>>>> c4d432671f2448ef5a5fabca52b63996e85cba32
    "\n",
    "            else:  \n",
    "                print(\"case 3\")\n",
    "                print(\"Matched! No need to adjust. \")\n",
    "                waterbed = makebed2(waterbed,str(marinabed[andanotherone]))\n",
    "                andanotherone = andanotherone + 1\n",
    "            row1 = row1 + 1\n",
    "            andanotherone = andanotherone+1\n",
    "        \n",
    "        return [waterbed,chrom]\n",
    "\n",
    "    else:\n",
    "        print(\"no match found, using original region\")\n",
    "\n",
    "        return [hotelbed,chrom]\n",
    "    \n",
    "\n",
    "\n",
    "\n",
    "#no intersection: EZH2,CERKL,PAQR6,TSACC,MEF2D,CD1E, DDR2, GPR161, ZNF410, JDP2\n",
    "#showed intersection: LMNA\n",
    "#error fixed for: DEDD \n",
    "#showed error: TP73 (does not intersect with oligominer bed file)"
   ]
  },
  {
   "cell_type": "code",
<<<<<<< HEAD
   "execution_count": 14,
   "metadata": {},
   "outputs": [
    {
     "name": "stdout",
     "output_type": "stream",
     "text": [
      "Enter gene: LMNA\n",
      "settings from 1 to 3: 1\n",
      "checking for overlap with h3k4me3 peaks\n",
      "no match found, using original region\n",
      "choose miner settings. 1 for balanced, 2 for coverage, 3 for stringent: 2\n",
      "Enter 1 for unique, 2 for normal mode: 1\n",
      "TCTGCTCAATTTGGACCTTCACCAACA\n",
      "CCCAGACACACGCCCTCCACCAAATT\n",
      "GACGTAGCACTTCCTTGGAGACACCC\n",
      "CCCCTTCCATTCCTACACTCAGCCCA\n",
      "CCCCAAAGTCTGTAACTCCAGGCGGC\n",
      "CCGACTAGGGGTAACGGGGAACTTTG\n",
      "CCCCACTACAGTCCCTCTCAGTGGTC\n",
      "CGCTTACCTTGCCTGCCCACGATCTC\n",
      "GCACGGGAACACACTCCGTGGTGTTG\n",
      "GCGCAGCTCGGCCTCTTTGTAGAGAG\n",
      "CCCCGAAACATCCTAGTTCTCCAAAGC\n",
      "CAGCCCCTTCCAGCGCTCAAACTCTT\n",
      "GAGGATAGGGATGTGGCCTTCGGTCT\n",
      "CGGGGCAAGCTAGGAGTGGGATGGAA\n",
      "GGGTAGTATGCGGAAACAGAGCGGGT\n",
      "CGGGGAGAGGTTCTCGGCAGAGAAGA\n",
      "CCTAAACAGCAAGCCATCTCCCCTCG\n",
      "CCCCAGTCTCGGAGATCTCAGAGGCA\n",
      "CCGACTGGGAGGTGAGTTAGTTCACG\n",
      "GAGGGCGGTGGAGTGATGAAGTGCAG\n",
      "TCTTAAAGGCCTGGGGTGACTTAACCG\n",
      "AGGCCTGGGCTGTGAATACAGCTTGG\n",
      "GGTGATCTGTCCTTTAGCACTCATCGTAATTT\n",
      "AAAACCCATTCAGTCCCGTTTGACTCC\n",
      "CTTGAGGGCTGAGCTGTTTAGTCCAG\n",
      "TAATGGGAGTGCTGGAACCTGAGCTG\n",
      "GGGCAGTTGGCACACTGCAGGGATTT\n",
      "CCCCTGGACTGGGGATTTAACATAAGATCA\n",
      "CCCTGGAGAGTGGGCTATTTCTGCCT\n",
      "CCTCATCCGGGTGCATCCCTAGTGCT\n",
      "CAAAGTTCCTGCCTTAATCCCACTCCA\n",
      "TTTGAGGGAAGCCCTGATATCTTGGAGC\n",
      "TGCTCATCGGAGGATAAGCTGTGGGA\n",
      "GCTTATCAAAAGGGTCCTTGGTGAGGC\n",
      "CAGGATAGAGACCCAATATTGGCTGTCCA\n",
      "TTTCTTTAGGGGACTTCTTTAGGGGACTGT\n",
      "GGGGTTGGGGTGACTCACTATTACTACT\n",
      "GCAAGCTTGGAGCCGACAGTGCTGAG\n",
      "AGGAGGACCTATTAGAGCCTTTGCCC\n",
      "CGCACCTACACCAGCCAACCCAGATC\n",
      "GCACTCCGACTCCGAGCAGTCTCTGT\n",
      "GCTCAATGATCGCTTGGCGGTCTACA\n",
      "GCGCCTTCGCATCACCGAGTCTGAAG\n",
      "GGATGCCCGCAAGACCCTTGACTCAG\n",
      "GCCGATAACTTTGCCATAGTCTCCTCC\n",
      "GTCTCTGGGAGAGGGTCGGGGAGGATA\n",
      "GGGGTATCAGGGACAAGTTGGGGCTG\n",
      "GGGCCGGCCTGAATTCGGTCAGATTG\n",
      "GGATTTGCCAACTATTTGGAGCCGGG\n",
      "CTGCCAGCTCGAAGAACTCTGGGCAC\n",
      "CCAGGACACATCGGAGTGGCAGAAAG\n",
      "GGTCCTGTTAGAACTTTGTTAGCGGGC\n",
      "CTGGCTCTGAACACATGATGCCCACT\n",
      "AAGACATAACTCTCAAGTTGGCATCTGTCC\n",
      "GGGCTCTGACAGGCCCACCAAAAGAG\n",
      "CTCCGGGAGATGAGAGATCGGCTCCC\n",
      "CAGTCTTTGCTCGGGCCCATCCTCTT\n",
      "TTTTGAAATCCAGCCGTTGGAAGATTCAGG\n",
      "AAAAGCCTTTGGGAGCTTGGAAGTATAGG\n",
      "ACTAAGGGTGCTTGGAGATCCGTAAAGG\n",
      "GCGTGAGGGAGTCGGGGTGTTTCATC\n",
      "TGATATTCAGAACTTCACAGGTTGGGGTTTG\n",
      "GGGAAGGCTCAAGGGGCTTCTAAGTC\n",
      "TCAGTTCCTCTCTTTAAGGTCTCCTTTCCA\n",
      "GAGAGGGATAGCACCTCAAATGCCAG\n",
      "ACTAGCCAAGAAACCAAGCAGTGGTT\n",
      "GGGGAGGTAGGGGCTATCAAACCTCA\n",
      "TGATTGGCCGCACACAAAGGTGTGAG\n",
      "GGCACTTTCACTAGGCCTCCGTATCA\n",
      "CTCTCTGACTGGGGTATCTCCCAGCA\n",
      "TTTCTATGTTTTGCACCAATCTGCTGTGAGT\n",
      "TTTTAGTGCCTGAGCCTACCCGTCTC\n",
      "AAGTATAGGAGTTGGTTCAAGAGAAGGTTCCT\n",
      "CTAGAAGCCTTGAGCCTGTGAACCGT\n",
      "CTAGTCTCCGGGTATTTGTGGGACACA\n",
      "AAAAGCCCCACGACCCAACAGGTAGA\n",
      "ACACTGGCTGAAATCAGCAGGGCAGA\n",
      "GCTGAGACAGGCTCAAGTAGGCTGAG\n",
      "GGGTAGGGAGGTTTTGGGTGAATGGG\n",
      "TATTGCAGTAGGAGGAGTTGCTGGAACA\n",
      "GGCAGCAGAAGACGCCCTGTCACATG\n",
      "CAAATTAGATGCCCAGGAGGATACAGGAGA\n",
      "ATTTGCCACCAGGCGGACTCCCTGTA\n",
      "GTGCTGCCTGGCAATGGGGAACTCTG\n",
      "TTTTAGCTACAGTGTCTGTCCCTCTTGCT\n",
      "CCCCAGATTGGGAGAGGAAACGGAGG\n",
      "CACCTAGCCCCTTTGCTGTGCTGGTG\n",
      "GCCCGGGTATTGTGTGCCTGAGCATG\n",
      "GCACTCAGCGTGTGCTCAGCTTTCCT\n",
      "GGGACCGAATGCCTGGCTAGGGTCTA\n",
      "CTTTGGTCCCTGCTAGGTCTGAGGAC\n",
      "GGCTCTACTGTACCCCTAGTCATCTCTTG\n",
      "GTCATGAGCCCATGGGTGATAGTGGC\n",
      "CAGATGGGAGCTCCCCGTGCCTAAGA\n",
      "TAATCTCCTCTCTTTGCAGTGCTAGTCAAAAC\n",
      "CCCCTTACTTTCCTTGGAGACCATATACTGT\n",
      "GGCTTGTGCCAAAGTGGTACAGCATG\n",
      "Enter another gene or n to quit: n\n"
     ]
    }
   ],
   "source": [
    "def main():\n",
    "    genebed = fileopen(input(\"Enter gene: \"))\n",
    "    \n",
    "        \n",
    "    loopmain(genebed)\n",
    "    \n",
    "    \n",
    "def loopmain(genebed):\n",
    "    if genebed:\n",
    "        listme = []\n",
    "        for i in genebed[0]:\n",
    "            listme.append(i[2])\n",
    "            listme.append(\"None\")\n",
    "        bedandchr = makebed(genebed)\n",
    "        chrom = bedandchr[1]\n",
    "        peaksetting = input(\"settings from 1 to 3: \")\n",
    "        if peaksetting == \"1\":\n",
    "            print('checking for overlap with h3k4me3 peaks')\n",
    "        elif peaksetting == \"2\":\n",
    "            print('checking for overlap with h3k27me3 peaks')\n",
    "        checkadjustment = adjustpeak(bedandchr,peaksetting)\n",
    "        \n",
    "        #else:\n",
    "            #check for both peaks\n",
    "        miner_settings = input(\"choose miner settings. 1 for balanced, 2 for coverage, 3 for stringent: \")\n",
    "        hg38_settings = input(\"Enter 1 for unique, 2 for normal mode: \")\n",
    "        \n",
    "        if hg38_settings == \"1\":\n",
    "            if miner_settings == \"1\":\n",
    "                miner_bed_name = \"b_u.bed\"\n",
    "                config_settings = config['settings_unique']['balanced']\n",
    "            elif miner_settings == \"2\":\n",
    "                miner_bed_name = \"c_u.bed\"\n",
    "                config_settings = config['settings_unique']['coverage']\n",
    "            elif miner_settings == \"3\":\n",
    "                miner_bed_name = \"s_u.bed\"\n",
    "                config_settings = config['settings_unique']['stringent']\n",
    "        elif hg38_settings == \"2\":\n",
    "            if miner_settings == \"1\":\n",
    "                miner_bed_name = \"b.bed\"\n",
    "                config_settings = config['settings_normal']['balanced']\n",
    "            elif miner_settings == \"2\":\n",
    "                miner_bed_name = \"c.bed\"\n",
    "                config_settings = config['settings_normal']['coverage']\n",
    "            elif miner_settings == \"3\":\n",
    "                miner_bed_name = \"s.bed\"\n",
    "                config_settings = config['settings_normal']['stringent']\n",
    "        singlebed = bedintersect(checkadjustment,miner_bed_name,config_settings)    \n",
    "        if peaksetting == \"1\":\n",
    "            drawgraph2(singlebed,listme,1,chrom)    \n",
    "        elif peaksetting == \"2\":\n",
    "            drawgraph2(singlebed,listme,2,chrom)\n",
    "        #else:\n",
    "            #both peaks\n",
    "        showprobe(singlebed[0])\n",
=======
   "execution_count": null,
   "metadata": {},
   "outputs": [],
   "source": [
    "def main():\n",
    "    genebed = fileopen(input(\"Enter gene: \"))\n",
    "    loopmain(genebed)\n",
    "def loopmain(genebed):\n",
    "    if genebed:\n",
    "        bedandchr = makebed(genebed)\n",
    "        peaksetting = input(\"settings from 1 to 3: \")\n",
    "        if peaksetting == \"1\":\n",
    "            print(\"True\")\n",
    "            checkadjustment = adjusth3k4me3peak(bedandchr,1)\n",
    "        elif peaksetting == \"2\":\n",
    "            print(\"False\")\n",
    "            checkadjustment = adjusth3k4me3peak(bedandchr,2)\n",
    "        \n",
    "        #else:\n",
    "            #check for both peaks\n",
    "        print(\"test\")\n",
    "        print(checkadjustment[0])\n",
    "        singlebed = bedintersect(checkadjustment)    \n",
    "        drawgraph(singlebed)    \n",
    "        showprobe(singlebed)\n",
>>>>>>> c4d432671f2448ef5a5fabca52b63996e85cba32
    "    else:\n",
    "        print(\"No match found\")\n",
    "        \n",
    "    geene = input(\"Enter another gene or n to quit: \")\n",
    "    if geene != \"n\":\n",
    "            \n",
    "        genebed = fileopen(geene)\n",
    "        loopmain(genebed)\n",
<<<<<<< HEAD
    "main()\n",
    "#no intersection found for TP73 for some reason. this gives an error when it comes to graphing. \n",
    "#might be that the prog does not work for case 2, have yet to find another case 2 gene. \n",
    "#currently showing weird results for LMNA after i tried incorporating the +- 500 condition when changing region \n",
    "#and changed some bits for the rest.\n",
    "#that fixed the issue for TP73, it went to case 2, but due to the LMNA\n",
    "#i tried my best to roll back to original state, but LMNA still shows weird results and TP73 does not work \n",
    "#one way to check why is to manually compare the regions of LMNA with the oligominer probe files. "
=======
    "main()"
>>>>>>> c4d432671f2448ef5a5fabca52b63996e85cba32
   ]
  },
  {
   "cell_type": "code",
   "execution_count": null,
   "metadata": {},
   "outputs": [],
   "source": [
    "# this is the main program where if the gene entered is not found, it quits. it is a little faster.\n",
    "def main2():\n",
    "    genebed = fileopen(input(\"Enter gene: \")) #output = [genebed,number of lines in genebed]\n",
<<<<<<< HEAD
    "    listme = []\n",
    "    for i in genebed[0]:\n",
    "        listme.append(i[2])\n",
    "        listme.append(\"None\")\n",
    "    \n",
    "    print(listme)\n",
    "    if genebed:\n",
    "        bedandchr = makebed(genebed)\n",
    "        chrom = bedandchr[1]\n",
    "        print(\"marker\")\n",
    "        print(bedandchr[0])\n",
    "        #output = [bed with merged region, chrom]\n",
=======
    "    if genebed:\n",
    "        bedandchr = makebed(genebed) #output = [bed with merged region, chrom]\n",
>>>>>>> c4d432671f2448ef5a5fabca52b63996e85cba32
    "        #the two lines below allows for change of region according to peaks (only h3k4me3)\n",
    "        #regionadjust = adjusth3k4me3peak(bedandchr,1)\n",
    "        #singlebed = bedintersect(regionadjust)\n",
    "        singlebed = bedintersect(bedandchr)\n",
<<<<<<< HEAD
    "        drawgraph2(singlebed,listme,1,chrom)\n",
    "        #showprobe(singlebed)\n",
=======
    "        drawgraph(singlebed)\n",
    "        showprobe(singlebed)\n",
>>>>>>> c4d432671f2448ef5a5fabca52b63996e85cba32
    "        \n",
    "    else:\n",
    "        print(\"No match found\")\n",
    "main2()                           #TP73,CERKL,EZH2"
   ]
  }
 ],
 "metadata": {
  "kernelspec": {
   "display_name": "Python 3",
   "language": "python",
   "name": "python3"
  },
  "language_info": {
   "codemirror_mode": {
    "name": "ipython",
    "version": 3
   },
   "file_extension": ".py",
   "mimetype": "text/x-python",
   "name": "python",
   "nbconvert_exporter": "python",
   "pygments_lexer": "ipython3",
   "version": "3.6.5"
  }
 },
 "nbformat": 4,
 "nbformat_minor": 2
}
